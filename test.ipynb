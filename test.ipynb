{
 "cells": [
  {
   "cell_type": "code",
   "execution_count": 1,
   "metadata": {},
   "outputs": [],
   "source": [
    "import random\n",
    "import cv2\n",
    "from pathlib import Path\n",
    "from torch.utils.data import DataLoader\n",
    "import torch\n",
    "import torch.nn as nn\n",
    "from torchvision import models\n",
    "from torchinfo import summary\n",
    "import numpy as np\n",
    "import torchmetrics\n",
    "from src.data.dataset import ProcessedWoundDataset\n",
    "from src.data.make_dataset import make_dataset1, make_dataset2\n",
    "from src.utils import empty_directory\n",
    "from src.models.mobilnetv2 import MobileNetV2withDecoder\n",
    "from config.defaults import get_cfg_defaults"
   ]
  },
  {
   "cell_type": "code",
   "execution_count": 9,
   "metadata": {},
   "outputs": [
    {
     "name": "stdout",
     "output_type": "stream",
     "text": [
      "Unique pairs:\n",
      "A-B\n",
      "A-C\n",
      "A-D\n",
      "A-E\n",
      "A-F\n",
      "A-G\n",
      "A-H\n",
      "A-I\n",
      "A-J\n",
      "B-C\n",
      "B-D\n",
      "B-E\n",
      "B-F\n",
      "B-G\n",
      "B-H\n",
      "B-I\n",
      "B-J\n",
      "C-D\n",
      "C-E\n",
      "C-F\n",
      "C-G\n",
      "C-H\n",
      "C-I\n",
      "C-J\n",
      "D-E\n",
      "D-F\n",
      "D-G\n",
      "D-H\n",
      "D-I\n",
      "D-J\n",
      "E-F\n",
      "E-G\n",
      "E-H\n",
      "E-I\n",
      "E-J\n",
      "F-G\n",
      "F-H\n",
      "F-I\n",
      "F-J\n",
      "G-H\n",
      "G-I\n",
      "G-J\n",
      "H-I\n",
      "H-J\n",
      "I-J\n"
     ]
    }
   ],
   "source": [
    "import itertools\n",
    "\n",
    "def generate_unique_pairs(people):\n",
    "    pairs = set()\n",
    "    for i, person in enumerate(people):\n",
    "        other_people = people[:i] + people[i+1:]\n",
    "        for other_person in other_people:\n",
    "            pair = tuple(sorted((person, other_person)))\n",
    "            pairs.add(pair)\n",
    "    return sorted(pairs, key=lambda x: (x[0], x[1]))\n",
    "\n",
    "# Example usage:\n",
    "people = [\"A\", \"B\", \"C\", \"D\", \"E\", \"F\", \"G\", \"H\", \"I\", \"J\"]\n",
    "unique_pairs = generate_unique_pairs(people)\n",
    "print(\"Unique pairs:\")\n",
    "for pair in unique_pairs:\n",
    "    print(\"-\".join(pair))\n"
   ]
  },
  {
   "cell_type": "code",
   "execution_count": null,
   "metadata": {},
   "outputs": [],
   "source": []
  }
 ],
 "metadata": {
  "kernelspec": {
   "display_name": "swd",
   "language": "python",
   "name": "python3"
  },
  "language_info": {
   "codemirror_mode": {
    "name": "ipython",
    "version": 3
   },
   "file_extension": ".py",
   "mimetype": "text/x-python",
   "name": "python",
   "nbconvert_exporter": "python",
   "pygments_lexer": "ipython3",
   "version": "3.8.18"
  }
 },
 "nbformat": 4,
 "nbformat_minor": 2
}
